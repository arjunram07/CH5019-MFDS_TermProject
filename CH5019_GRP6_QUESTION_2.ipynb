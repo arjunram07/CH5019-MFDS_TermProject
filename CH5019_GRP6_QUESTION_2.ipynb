{
 "cells": [
  {
   "cell_type": "markdown",
   "metadata": {},
   "source": [
    "## Logistic Regression using gradient Descent:"
   ]
  },
  {
   "cell_type": "code",
   "execution_count": 188,
   "metadata": {},
   "outputs": [],
   "source": [
    "import pandas as pd\n",
    "import numpy as np\n",
    "from sklearn.model_selection import train_test_split\n",
    "from sklearn.metrics import confusion_matrix,f1_score\n",
    "a=pd.read_excel(r'H:\\Sem 6\\mfds\\Term project 2020\\Dataset_Question2.xlsx')\n",
    "a['Test']=a['Test'].map({'Pass':0,'Fail':1});\n",
    "a.insert(0,'bias',1);"
   ]
  },
  {
   "cell_type": "markdown",
   "metadata": {},
   "source": [
    "## Data Splitting"
   ]
  },
  {
   "cell_type": "code",
   "execution_count": 189,
   "metadata": {},
   "outputs": [
    {
     "name": "stdout",
     "output_type": "stream",
     "text": [
      "No. of data points in train set: 700\n",
      "No. of data points in test set: 300\n"
     ]
    }
   ],
   "source": [
    "train=a.iloc[:700]  #first 700 datapoints are 70% of the data\n",
    "test=a.iloc[700:]  #last 300 datapoints are 30% of the data\n",
    "print('No. of data points in train set:',len(train) )\n",
    "print('No. of data points in test set:',len(test) )\n",
    "x_train=np.matrix(train.drop(['Test'],axis=1))\n",
    "y_train=train['Test']\n",
    "x_test=np.matrix(test.drop(['Test'],axis=1))\n",
    "y_test=list(test['Test'])"
   ]
  },
  {
   "cell_type": "code",
   "execution_count": 297,
   "metadata": {},
   "outputs": [],
   "source": [
    "def sigmoid(x,theta): \n",
    "    z=x*theta\n",
    "    return 1/(1+np.exp(-z))\n",
    "def gradient(x,y,theta):\n",
    "    grad=np.transpose([[0,0,0,0,0,0]]);\n",
    "    for i in range(700):\n",
    "        c=float(sigmoid(x_train[i],theta)-y_train[i])\n",
    "        x1=np.transpose([[x_train[i,0],x_train[i,1],x_train[i,2],x_train[i,3],x_train[i,4],x_train[i,5]]])\n",
    "        grad=grad+np.dot(c,x1)\n",
    "    return grad\n",
    "b=[-1,10,-1,20,-20,-5]  #initialization\n",
    "b=np.transpose(np.matrix(b))\n",
    "\n",
    "b1=b;\n",
    "while True: #looping over to find the minima\n",
    "    b2=b1;\n",
    "    b1=b1-(np.dot(0.01/700,(gradient(x,y,b1))));\n",
    "    if np.linalg.norm(b2-b1)<1:\n",
    "        break"
   ]
  },
  {
   "cell_type": "code",
   "execution_count": 298,
   "metadata": {},
   "outputs": [
    {
     "name": "stdout",
     "output_type": "stream",
     "text": [
      "Accuracy is 0.9266666666666666\n"
     ]
    }
   ],
   "source": [
    "predicted=list([1/(1+np.exp(-x)) for x in x_test*b1])\n",
    "correct_prediction=0\n",
    "wrong_prediction=0\n",
    "for i in range(300):\n",
    "    if abs(float(predicted[i])-y_test[i])<0.5:\n",
    "        correct_prediction+=1;\n",
    "    else:\n",
    "        wrong_prediction+=1;\n",
    "        \n",
    "print('Accuracy is',correct_prediction/300)         #001001 #001100 #011100(87.6) #-1 10 -1 20 -20 -5(92) #2000 10 1 20 400 2"
   ]
  },
  {
   "cell_type": "code",
   "execution_count": 299,
   "metadata": {},
   "outputs": [],
   "source": [
    "predicted_=np.zeros(300)\n",
    "for i in range(300):\n",
    "    if predicted[i]<0.5:\n",
    "        predicted_[i]=0\n",
    "    else:\n",
    "        predicted_[i]=1"
   ]
  },
  {
   "cell_type": "code",
   "execution_count": 300,
   "metadata": {
    "scrolled": false
   },
   "outputs": [
    {
     "name": "stdout",
     "output_type": "stream",
     "text": [
      "[[180   7]\n",
      " [ 15  98]]\n",
      "f1_score is 0.8990825688073395\n"
     ]
    }
   ],
   "source": [
    "print(confusion_matrix(np.array(y_test),(predicted_)))\n",
    "print('f1_score is',f1_score(np.array(y_test),(predicted_)))\n"
   ]
  }
 ],
 "metadata": {
  "kernelspec": {
   "display_name": "Python 3",
   "language": "python",
   "name": "python3"
  },
  "language_info": {
   "codemirror_mode": {
    "name": "ipython",
    "version": 3
   },
   "file_extension": ".py",
   "mimetype": "text/x-python",
   "name": "python",
   "nbconvert_exporter": "python",
   "pygments_lexer": "ipython3",
   "version": "3.7.4"
  }
 },
 "nbformat": 4,
 "nbformat_minor": 2
}
