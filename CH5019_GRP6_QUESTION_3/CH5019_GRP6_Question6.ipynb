{
 "cells": [
  {
   "cell_type": "code",
   "execution_count": 1,
   "metadata": {},
   "outputs": [],
   "source": [
    "import pandas as pd\n",
    "import numpy as np\n",
    "import matplotlib.pyplot as plt"
   ]
  },
  {
   "cell_type": "code",
   "execution_count": 2,
   "metadata": {},
   "outputs": [],
   "source": [
    "# Load IndividualDetails data as df\n",
    "\n",
    "df = pd.read_csv(\"/Users/arsh/MFDS-Project/Term-project-2020/Dataset_Question3/IndividualDetails.csv\")"
   ]
  },
  {
   "cell_type": "code",
   "execution_count": 3,
   "metadata": {},
   "outputs": [],
   "source": [
    "# drop id column\n",
    "\n",
    "df = df.drop(['id'], axis=1)\n",
    "\n",
    "# offset index by 1\n",
    "\n",
    "df.index += 1"
   ]
  },
  {
   "cell_type": "code",
   "execution_count": 4,
   "metadata": {},
   "outputs": [],
   "source": [
    "# taking data only till 10/04/2020\n",
    "\n",
    "required_data = df[df.index <= 7599]"
   ]
  },
  {
   "cell_type": "code",
   "execution_count": 5,
   "metadata": {},
   "outputs": [],
   "source": [
    "# get the number of cases by state \n",
    "\n",
    "cases_by_state = required_data.groupby(['detected_state']).size()"
   ]
  },
  {
   "cell_type": "code",
   "execution_count": 6,
   "metadata": {},
   "outputs": [],
   "source": [
    "# convert cases_by_state object to a data frame\n",
    "\n",
    "cases_by_state = cases_by_state.to_frame()"
   ]
  },
  {
   "cell_type": "code",
   "execution_count": 7,
   "metadata": {},
   "outputs": [],
   "source": [
    "# rename index column in cases_by_state\n",
    "\n",
    "cases_by_state.rename({0 : 'no_of_cases'}, axis = 1, inplace=True)"
   ]
  },
  {
   "cell_type": "code",
   "execution_count": 8,
   "metadata": {},
   "outputs": [],
   "source": [
    "# get the 5 largest states\n",
    "\n",
    "top_five_states = cases_by_state.nlargest(5, ['no_of_cases'])"
   ]
  },
  {
   "cell_type": "markdown",
   "metadata": {},
   "source": [
    "## Submit"
   ]
  },
  {
   "cell_type": "code",
   "execution_count": 9,
   "metadata": {},
   "outputs": [
    {
     "data": {
      "text/html": [
       "<div>\n",
       "<style scoped>\n",
       "    .dataframe tbody tr th:only-of-type {\n",
       "        vertical-align: middle;\n",
       "    }\n",
       "\n",
       "    .dataframe tbody tr th {\n",
       "        vertical-align: top;\n",
       "    }\n",
       "\n",
       "    .dataframe thead th {\n",
       "        text-align: right;\n",
       "    }\n",
       "</style>\n",
       "<table border=\"1\" class=\"dataframe\">\n",
       "  <thead>\n",
       "    <tr style=\"text-align: right;\">\n",
       "      <th></th>\n",
       "      <th>no_of_cases</th>\n",
       "    </tr>\n",
       "    <tr>\n",
       "      <th>detected_state</th>\n",
       "      <th></th>\n",
       "    </tr>\n",
       "  </thead>\n",
       "  <tbody>\n",
       "    <tr>\n",
       "      <th>Maharashtra</th>\n",
       "      <td>1574</td>\n",
       "    </tr>\n",
       "    <tr>\n",
       "      <th>Tamil Nadu</th>\n",
       "      <td>911</td>\n",
       "    </tr>\n",
       "    <tr>\n",
       "      <th>Delhi</th>\n",
       "      <td>903</td>\n",
       "    </tr>\n",
       "    <tr>\n",
       "      <th>Rajasthan</th>\n",
       "      <td>561</td>\n",
       "    </tr>\n",
       "    <tr>\n",
       "      <th>Telangana</th>\n",
       "      <td>487</td>\n",
       "    </tr>\n",
       "  </tbody>\n",
       "</table>\n",
       "</div>"
      ],
      "text/plain": [
       "                no_of_cases\n",
       "detected_state             \n",
       "Maharashtra            1574\n",
       "Tamil Nadu              911\n",
       "Delhi                   903\n",
       "Rajasthan               561\n",
       "Telangana               487"
      ]
     },
     "execution_count": 9,
     "metadata": {},
     "output_type": "execute_result"
    }
   ],
   "source": [
    "top_five_states"
   ]
  },
  {
   "cell_type": "code",
   "execution_count": 26,
   "metadata": {},
   "outputs": [],
   "source": [
    "top_five_states.to_excel(r'/Users/arsh/MFDS-Project/Q6_data_to_be_submitted1.xlsx', index = False)"
   ]
  },
  {
   "cell_type": "code",
   "execution_count": 10,
   "metadata": {},
   "outputs": [],
   "source": [
    "# make a list of the largest 5 states by cases\n",
    "\n",
    "top_states = []\n",
    "for rows in top_five_states:\n",
    "    list = [top_five_states.index]\n",
    "    top_states.append(list)"
   ]
  },
  {
   "cell_type": "code",
   "execution_count": 11,
   "metadata": {},
   "outputs": [
    {
     "data": {
      "text/plain": [
       "list"
      ]
     },
     "execution_count": 11,
     "metadata": {},
     "output_type": "execute_result"
    }
   ],
   "source": [
    "type(top_states)"
   ]
  },
  {
   "cell_type": "code",
   "execution_count": 12,
   "metadata": {},
   "outputs": [
    {
     "data": {
      "text/plain": [
       "[[Index(['Maharashtra', 'Tamil Nadu', 'Delhi', 'Rajasthan', 'Telangana'], dtype='object', name='detected_state')]]"
      ]
     },
     "execution_count": 12,
     "metadata": {},
     "output_type": "execute_result"
    }
   ],
   "source": [
    "top_states"
   ]
  },
  {
   "cell_type": "code",
   "execution_count": 13,
   "metadata": {},
   "outputs": [],
   "source": [
    "# from the original data frame, create a dataframe with only the top 5 states\n",
    "\n",
    "df_with_only_top_states = df[df['detected_state'].isin(['Maharashtra', 'Tamil Nadu', 'Delhi', 'Rajasthan', 'Telangana'])]"
   ]
  },
  {
   "cell_type": "code",
   "execution_count": 14,
   "metadata": {},
   "outputs": [],
   "source": [
    "# make a temporary data frame with given words to indicate primary cases\n",
    "\n",
    "temp = df_with_only_top_states[df_with_only_top_states['notes'].str.contains('Travelled|Flown|Foreign|Travel|History|Evacuees', case=False, na=False, regex=True)]"
   ]
  },
  {
   "cell_type": "code",
   "execution_count": 15,
   "metadata": {},
   "outputs": [],
   "source": [
    "# remove all rows with 'no' from temp\n",
    "\n",
    "temp = temp[~temp['notes'].str.contains('no', case=False, na=False, regex=True)]"
   ]
  },
  {
   "cell_type": "code",
   "execution_count": 16,
   "metadata": {},
   "outputs": [],
   "source": [
    "# make a copy of temp called primary\n",
    "\n",
    "primary = temp"
   ]
  },
  {
   "cell_type": "code",
   "execution_count": 18,
   "metadata": {},
   "outputs": [],
   "source": [
    "# make a temporary data frame with given words to indicate secondary cases\n",
    "\n",
    "temp1 = df_with_only_top_states[df_with_only_top_states['notes'].str.contains('Family|Accompanied|Relative|neighbour|contacts|contact|friend|friends|wife|daughter|sister|father|mother|co-passenger|cab driver|spouse|doctor|brother|cook|hospital|sister|driver|roommate', case=False, na=False, regex=True)]"
   ]
  },
  {
   "cell_type": "code",
   "execution_count": 19,
   "metadata": {},
   "outputs": [],
   "source": [
    "# remove given words from secondary temporary data frame\n",
    "\n",
    "temp1 = temp1[~temp1['notes'].str.contains('travel|travelled', case=False, na=False, regex=True)]"
   ]
  },
  {
   "cell_type": "code",
   "execution_count": 20,
   "metadata": {},
   "outputs": [],
   "source": [
    "# make a copy of temp1 and store it in secondary\n",
    "\n",
    "secondary = temp1"
   ]
  },
  {
   "cell_type": "code",
   "execution_count": 21,
   "metadata": {},
   "outputs": [],
   "source": [
    "# make a data frame consisting of union of primary and secondary dfs\n",
    "\n",
    "p_and_s = pd.merge(primary, secondary, how='outer')"
   ]
  },
  {
   "cell_type": "code",
   "execution_count": 22,
   "metadata": {},
   "outputs": [],
   "source": [
    "# make a temporary data frame with given words to indicate tertiary cases\n",
    "\n",
    "tertiary_temp = df_with_only_top_states[~df_with_only_top_states.index.isin(p_and_s.index)]"
   ]
  },
  {
   "cell_type": "code",
   "execution_count": 23,
   "metadata": {},
   "outputs": [],
   "source": [
    "# remove given words from tertiary temporary data frame\n",
    "\n",
    "tertiary = tertiary_temp[~tertiary_temp['notes'].str.contains('travelled|contact', case=False, na=False, regex=True)]"
   ]
  },
  {
   "cell_type": "code",
   "execution_count": 24,
   "metadata": {},
   "outputs": [
    {
     "data": {
      "image/png": "[encoded data removed]",
      "text/plain": [
       "<Figure size 432x288 with 1 Axes>"
      ]
     },
     "metadata": {},
     "output_type": "display_data"
    }
   ],
   "source": [
    "# make a piechart indicating percentage of primary, secondary and tertiary cases as of 10/04/2020\n",
    "\n",
    "labels = 'Primary Cases', 'Seconday Cases', 'Tertiary Cases'\n",
    "sizes = [len(primary.index), len(secondary.index), len(tertiary.index)]\n",
    "colors = ['red', 'blue', 'green']\n",
    "\n",
    "\n",
    "# Plot\n",
    "plt.pie(sizes, labels=labels, colors=colors,\n",
    "autopct='%1.1f%%', shadow=True, startangle=140)\n",
    "\n",
    "plt.axis('equal')\n",
    "\n",
    "plt.show()"
   ]
  },
  {
   "cell_type": "code",
   "execution_count": 27,
   "metadata": {},
   "outputs": [],
   "source": [
    "# create df with no of p, s and t cases\n",
    "\n",
    "no_of_cases = pd.DataFrame({'Primary' : [len(primary.index)], 'Secondary' : [len(secondary.index)], 'Tertiary' : [len(tertiary.index)]})"
   ]
  },
  {
   "cell_type": "markdown",
   "metadata": {},
   "source": [
    "# Submit"
   ]
  },
  {
   "cell_type": "code",
   "execution_count": 28,
   "metadata": {},
   "outputs": [
    {
     "data": {
      "text/html": [
       "<div>\n",
       "<style scoped>\n",
       "    .dataframe tbody tr th:only-of-type {\n",
       "        vertical-align: middle;\n",
       "    }\n",
       "\n",
       "    .dataframe tbody tr th {\n",
       "        vertical-align: top;\n",
       "    }\n",
       "\n",
       "    .dataframe thead th {\n",
       "        text-align: right;\n",
       "    }\n",
       "</style>\n",
       "<table border=\"1\" class=\"dataframe\">\n",
       "  <thead>\n",
       "    <tr style=\"text-align: right;\">\n",
       "      <th></th>\n",
       "      <th>Primary</th>\n",
       "      <th>Secondary</th>\n",
       "      <th>Tertiary</th>\n",
       "    </tr>\n",
       "  </thead>\n",
       "  <tbody>\n",
       "    <tr>\n",
       "      <th>0</th>\n",
       "      <td>805</td>\n",
       "      <td>180</td>\n",
       "      <td>14882</td>\n",
       "    </tr>\n",
       "  </tbody>\n",
       "</table>\n",
       "</div>"
      ],
      "text/plain": [
       "   Primary  Secondary  Tertiary\n",
       "0      805        180     14882"
      ]
     },
     "execution_count": 28,
     "metadata": {},
     "output_type": "execute_result"
    }
   ],
   "source": [
    "no_of_cases"
   ]
  },
  {
   "cell_type": "code",
   "execution_count": 30,
   "metadata": {},
   "outputs": [],
   "source": [
    "# export df to excel\n",
    "\n",
    "no_of_cases.to_excel(r'/Users/arsh/MFDS-Project/Q6_data_to_be_submitted2.xlsx', index = False)"
   ]
  },
  {
   "cell_type": "code",
   "execution_count": null,
   "metadata": {},
   "outputs": [],
   "source": []
  }
 ],
 "metadata": {
  "kernelspec": {
   "display_name": "Python 3",
   "language": "python",
   "name": "python3"
  },
  "language_info": {
   "codemirror_mode": {
    "name": "ipython",
    "version": 3
   },
   "file_extension": ".py",
   "mimetype": "text/x-python",
   "name": "python",
   "nbconvert_exporter": "python",
   "pygments_lexer": "ipython3",
   "version": "3.7.1"
  }
 },
 "nbformat": 4,
 "nbformat_minor": 2
}
